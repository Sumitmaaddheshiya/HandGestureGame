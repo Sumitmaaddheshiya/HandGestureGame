{
  "cells": [
    {
      "cell_type": "markdown",
      "metadata": {
        "id": "view-in-github",
        "colab_type": "text"
      },
      "source": [
        "<a href=\"https://colab.research.google.com/github/Sumitmaaddheshiya/HandGestureGame/blob/main/Copy_of_Data_structure_Practice_Assignment.ipynb\" target=\"_parent\"><img src=\"https://colab.research.google.com/assets/colab-badge.svg\" alt=\"Open In Colab\"/></a>"
      ]
    },
    {
      "cell_type": "markdown",
      "metadata": {
        "id": "8pRf9jW4fyVP"
      },
      "source": [
        "# Lists, Tuples, and Sets : Practice Assignment\n",
        "\n",
        "### Dear students these question will help you build a very strong foundation on data structures specificaly as data analyst\n",
        "\n",
        "Each problem has:\n",
        "- **Problem statement**\n",
        "- **What the expected answer should look like** (an example of the final result/state)\n",
        "- An **empty code cell** for you to solve it (look for `# write your code here`).\n",
        "\n",
        "> Tip: Run cells independently."
      ],
      "id": "8pRf9jW4fyVP"
    },
    {
      "cell_type": "markdown",
      "metadata": {
        "id": "dIbr5ZfofyVS"
      },
      "source": [
        "### List Q1\n",
        "\n",
        "**Problem:** Write a program to retrieve the value 4 from the list `my_list = [[1, 2], [3, 4], [5, 6]]` using indexing.\n",
        "\n",
        "**Expected answer should look like (example):**\n",
        "```\n",
        "4\n",
        "```"
      ],
      "id": "dIbr5ZfofyVS"
    },
    {
      "cell_type": "code",
      "execution_count": 5,
      "metadata": {
        "id": "qKpIQgUPfyVS",
        "colab": {
          "base_uri": "https://localhost:8080/"
        },
        "outputId": "91a6246c-1be2-4569-f4d8-4f74cd8e47eb"
      },
      "outputs": [
        {
          "output_type": "stream",
          "name": "stdout",
          "text": [
            "4\n"
          ]
        }
      ],
      "source": [
        "# write your code here\n",
        "my_list = [[1, 2], [3, 4], [5, 6]]\n",
        "print(my_list[1][1])"
      ],
      "id": "qKpIQgUPfyVS"
    },
    {
      "cell_type": "markdown",
      "metadata": {
        "id": "qErZqUJvfyVT"
      },
      "source": [
        "### List Q2\n",
        "\n",
        "**Problem:** Write a program to reverse the list `[10, 20, 30, 40, 50]` using slicing and explain how the slicing parameters achieve the result.\n",
        "\n",
        "**Expected answer should look like (example):**\n",
        "```\n",
        "[50, 40, 30, 20, 10]  # slicing: lst[::-1] (start:end:step=-1)\n",
        "```"
      ],
      "id": "qErZqUJvfyVT"
    },
    {
      "cell_type": "code",
      "execution_count": 6,
      "metadata": {
        "id": "Xb_G2R0GfyVT",
        "colab": {
          "base_uri": "https://localhost:8080/"
        },
        "outputId": "efb20b19-c425-4b88-ee97-fccc33cd7c73"
      },
      "outputs": [
        {
          "output_type": "stream",
          "name": "stdout",
          "text": [
            "[50, 40, 30, 20, 10]\n"
          ]
        }
      ],
      "source": [
        "# write your code here\n",
        "list = [10, 20, 30, 40, 50]\n",
        "print(list[::-1])"
      ],
      "id": "Xb_G2R0GfyVT"
    },
    {
      "cell_type": "markdown",
      "metadata": {
        "id": "wk0JTcZgfyVU"
      },
      "source": [
        "### List Q3\n",
        "\n",
        "**Problem:** Write a program to extract every second element from the list `[1, 2, 3, 4, 5, 6, 7, 8]` using slicing.\n",
        "\n",
        "**Expected answer should look like (example):**\n",
        "```\n",
        "[2, 4, 6, 8]\n",
        "```"
      ],
      "id": "wk0JTcZgfyVU"
    },
    {
      "cell_type": "code",
      "execution_count": 9,
      "metadata": {
        "id": "yRA2C-H5fyVU",
        "colab": {
          "base_uri": "https://localhost:8080/"
        },
        "outputId": "fcd7048f-6118-483b-a760-5953681c91c5"
      },
      "outputs": [
        {
          "output_type": "stream",
          "name": "stdout",
          "text": [
            "[2, 4, 6, 8]\n"
          ]
        }
      ],
      "source": [
        "# write your code here\n",
        "list = [1, 2, 3, 4, 5, 6, 7, 8]\n",
        "print(list[1::2])"
      ],
      "id": "yRA2C-H5fyVU"
    },
    {
      "cell_type": "markdown",
      "metadata": {
        "id": "oK9W1WZBfyVU"
      },
      "source": [
        "### List Q4\n",
        "\n",
        "**Problem:** Write a program to replace the middle two elements of the list `[10, 20, 30, 40, 50]` with `[99, 100, 101]` using slicing.\n",
        "\n",
        "**Expected answer should look like (example):**\n",
        "```\n",
        "[10, 20, 99, 100, 101, 50]\n",
        "```"
      ],
      "id": "oK9W1WZBfyVU"
    },
    {
      "cell_type": "code",
      "execution_count": 10,
      "metadata": {
        "id": "uB4t-1-FfyVU",
        "colab": {
          "base_uri": "https://localhost:8080/"
        },
        "outputId": "9458b96d-972a-489e-fa56-f9ae75faeaae"
      },
      "outputs": [
        {
          "output_type": "stream",
          "name": "stdout",
          "text": [
            "[10, 20, 99, 100, 101, 50]\n"
          ]
        }
      ],
      "source": [
        "# write your code here\n",
        "list = [10, 20, 30, 40, 50]\n",
        "list[2:4] = [99, 100, 101]\n",
        "print(list)\n"
      ],
      "id": "uB4t-1-FfyVU"
    },
    {
      "cell_type": "markdown",
      "metadata": {
        "id": "mOp9HBHafyVU"
      },
      "source": [
        "### List Q5\n",
        "\n",
        "**Problem:** Write a program to transform the list `[1, 2, 3, 4, 5]` into `[1, 99, 100, 101, 4, 5]` by modifying a slice.\n",
        "\n",
        "**Expected answer should look like (example):**\n",
        "```\n",
        "[1, 99, 100, 101, 4, 5]\n",
        "```"
      ],
      "id": "mOp9HBHafyVU"
    },
    {
      "cell_type": "code",
      "execution_count": 12,
      "metadata": {
        "id": "STvMWW5GfyVV",
        "colab": {
          "base_uri": "https://localhost:8080/"
        },
        "outputId": "6084de7c-cbff-48bb-b7d3-4a98947439e4"
      },
      "outputs": [
        {
          "output_type": "stream",
          "name": "stdout",
          "text": [
            "[1, 99, 100, 101, 4, 5]\n"
          ]
        }
      ],
      "source": [
        "# write your code here\n",
        "list = [1, 2, 3, 4, 5]\n",
        "list[1:3] = [99, 100, 101]\n",
        "print(list)"
      ],
      "id": "STvMWW5GfyVV"
    },
    {
      "cell_type": "markdown",
      "metadata": {
        "id": "YboV54EpfyVV"
      },
      "source": [
        "### List Q6\n",
        "\n",
        "**Problem:** Write a program to concatenate two lists without using the `+` operator.\n",
        "\n",
        "**Expected answer should look like (example):**\n",
        "```\n",
        "[...concatenated items...]  # e.g., via unpacking or extend\n",
        "```"
      ],
      "id": "YboV54EpfyVV"
    },
    {
      "cell_type": "code",
      "execution_count": 13,
      "metadata": {
        "id": "qEzZVAuGfyVV",
        "colab": {
          "base_uri": "https://localhost:8080/"
        },
        "outputId": "2cc930aa-9ffa-41e8-f090-c319af3c44ac"
      },
      "outputs": [
        {
          "output_type": "stream",
          "name": "stdout",
          "text": [
            "[1, 2, 3, 4, 5, 6]\n"
          ]
        }
      ],
      "source": [
        "# write your code here\n",
        "list1 = [1, 2, 3]\n",
        "list2 = [4, 5, 6]\n",
        "list1.extend(list2)\n",
        "print(list1)"
      ],
      "id": "qEzZVAuGfyVV"
    },
    {
      "cell_type": "markdown",
      "metadata": {
        "id": "aiMDaI-CfyVV"
      },
      "source": [
        "### List Q7\n",
        "\n",
        "**Problem:** Write a program to demonstrate how the `extend` method behaves if the argument is a string using `my_list = [1, 2, 3]`.\n",
        "\n",
        "**Expected answer should look like (example):**\n",
        "```\n",
        "[1, 2, 3, 'a', 'b', 'c']  # e.g., my_list.extend('abc') adds each char\n",
        "```"
      ],
      "id": "aiMDaI-CfyVV"
    },
    {
      "cell_type": "code",
      "execution_count": 14,
      "metadata": {
        "id": "xYcujVcnfyVV",
        "colab": {
          "base_uri": "https://localhost:8080/"
        },
        "outputId": "42358100-c5bf-4c34-f4a9-49db05e3a7b1"
      },
      "outputs": [
        {
          "output_type": "stream",
          "name": "stdout",
          "text": [
            "[1, 2, 3, 'a', 'b', 'c']\n"
          ]
        }
      ],
      "source": [
        "# write your code here\n",
        "my_list = [1, 2, 3]\n",
        "my_list.extend('abc')\n",
        "print(my_list)"
      ],
      "id": "xYcujVcnfyVV"
    },
    {
      "cell_type": "markdown",
      "metadata": {
        "id": "jDPtjjYrfyVV"
      },
      "source": [
        "### List Q8\n",
        "\n",
        "**Problem:** Write a program that uses `extend` to merge two lists in such a way that duplicates from the second list are not added.\n",
        "\n",
        "**Expected answer should look like (example):**\n",
        "```\n",
        "[merged_unique_list]  # second list's items only if not already present\n",
        "```"
      ],
      "id": "jDPtjjYrfyVV"
    },
    {
      "cell_type": "code",
      "execution_count": 15,
      "metadata": {
        "id": "MDSsR4YdfyVV",
        "colab": {
          "base_uri": "https://localhost:8080/"
        },
        "outputId": "789e9493-f264-4ecf-86f9-91a96ac62a71"
      },
      "outputs": [
        {
          "output_type": "stream",
          "name": "stdout",
          "text": [
            "[1, 2, 3, 4]\n"
          ]
        }
      ],
      "source": [
        "# write your code here\n",
        "list1 = [1, 2, 3]\n",
        "list2 = [2, 3, 4]\n",
        "list1.extend(item for item in list2 if item not in list1)\n",
        "print(list1)"
      ],
      "id": "MDSsR4YdfyVV"
    },
    {
      "cell_type": "markdown",
      "metadata": {
        "id": "bnFHf3nKfyVV"
      },
      "source": [
        "### List Q9\n",
        "\n",
        "**Problem:** Write a program to create a list of 100 zeros using repetition and then replace every 10th element with 1.\n",
        "\n",
        "**Expected answer should look like (example):**\n",
        "```\n",
        "[1 appears at indices 9,19,29,...]\n",
        "```"
      ],
      "id": "bnFHf3nKfyVV"
    },
    {
      "cell_type": "code",
      "execution_count": 26,
      "metadata": {
        "id": "TnQW2Z11fyVV",
        "colab": {
          "base_uri": "https://localhost:8080/"
        },
        "outputId": "96c740e8-f6e9-4d42-eb78-dd9dea3b5547"
      },
      "outputs": [
        {
          "output_type": "stream",
          "name": "stdout",
          "text": [
            "[0, 0, 0, 0, 0, 0, 0, 0, 0, 0, 1, 0, 0, 0, 0, 0, 0, 0, 0, 0, 1, 0, 0, 0, 0, 0, 0, 0, 0, 0, 1, 0, 0, 0, 0, 0, 0, 0, 0, 0, 1, 0, 0, 0, 0, 0, 0, 0, 0, 0, 1, 0, 0, 0, 0, 0, 0, 0, 0, 0, 1, 0, 0, 0, 0, 0, 0, 0, 0, 0, 1, 0, 0, 0, 0, 0, 0, 0, 0, 0, 1, 0, 0, 0, 0, 0, 0, 0, 0, 0, 1, 0, 0, 0, 0, 0, 0, 0, 0, 0]\n"
          ]
        }
      ],
      "source": [
        "# write your code here\n",
        "list = [0] * 10\n",
        "for i in range(1, 10, 10):\n",
        "  list[i] = 1\n",
        "print(list)\n",
        "\n"
      ],
      "id": "TnQW2Z11fyVV"
    },
    {
      "cell_type": "markdown",
      "metadata": {
        "id": "g2UP8pXGfyVW"
      },
      "source": [
        "### List Q10\n",
        "\n",
        "**Problem:** Write a Python command without using a loop to check if **all** the elements of `[2, 4]` are present in the list `[1, 2, 3, 4, 5]`.\n",
        "\n",
        "**Expected answer should look like (example):**\n",
        "```\n",
        "True  # e.g., set([2,4]).issubset([1,2,3,4,5])\n",
        "```"
      ],
      "id": "g2UP8pXGfyVW"
    },
    {
      "cell_type": "code",
      "execution_count": 27,
      "metadata": {
        "id": "R8-l25c4fyVW",
        "colab": {
          "base_uri": "https://localhost:8080/"
        },
        "outputId": "86d3a2ec-822b-4106-9302-58a9784ffc7a"
      },
      "outputs": [
        {
          "output_type": "stream",
          "name": "stdout",
          "text": [
            "True\n"
          ]
        }
      ],
      "source": [
        "# write your code here\n",
        "list = [1, 2, 3, 4, 5]\n",
        "print(set([2,4]).issubset(list))\n"
      ],
      "id": "R8-l25c4fyVW"
    },
    {
      "cell_type": "markdown",
      "metadata": {
        "id": "aWvONtsUfyVW"
      },
      "source": [
        "### List Q11\n",
        "\n",
        "**Problem:** Write a program to use `not in` to filter out all the elements of a list that exist in another list, e.g., removing elements in `[2, 4]` from `[1, 2, 3, 4, 5]`.\n",
        "\n",
        "**Expected answer should look like (example):**\n",
        "```\n",
        "[1, 3, 5]\n",
        "```"
      ],
      "id": "aWvONtsUfyVW"
    },
    {
      "cell_type": "code",
      "execution_count": 28,
      "metadata": {
        "id": "5RM0kWVufyVW",
        "colab": {
          "base_uri": "https://localhost:8080/"
        },
        "outputId": "db7e15da-dd40-422a-a1cb-00598649c80d"
      },
      "outputs": [
        {
          "output_type": "stream",
          "name": "stdout",
          "text": [
            "[1, 3, 5]\n"
          ]
        }
      ],
      "source": [
        "# write your code here\n",
        "list1 = [1, 2, 3, 4, 5]\n",
        "list2 = [2, 4]\n",
        "print([item for item in list1 if item not in list2])"
      ],
      "id": "5RM0kWVufyVW"
    },
    {
      "cell_type": "markdown",
      "metadata": {
        "id": "gFcNPkVMfyVW"
      },
      "source": [
        "### List Q12\n",
        "\n",
        "**Problem:** Create a list of integers from 1 to 10.\n",
        "\n",
        "**Expected answer should look like (example):**\n",
        "```\n",
        "[1, 2, 3, 4, 5, 6, 7, 8, 9, 10]\n",
        "```"
      ],
      "id": "gFcNPkVMfyVW"
    },
    {
      "cell_type": "code",
      "execution_count": 33,
      "metadata": {
        "id": "OMf9DKBffyVW",
        "colab": {
          "base_uri": "https://localhost:8080/"
        },
        "outputId": "66684f2d-cacf-4e19-8dae-9098091a364d"
      },
      "outputs": [
        {
          "output_type": "stream",
          "name": "stdout",
          "text": [
            "[1, 2, 3, 4, 5, 6, 7, 8, 9, 10]\n"
          ]
        }
      ],
      "source": [
        "# write your code here\n",
        "del list\n",
        "\n",
        "numbers = list(range(1, 11))\n",
        "print(numbers)\n"
      ],
      "id": "OMf9DKBffyVW"
    },
    {
      "cell_type": "markdown",
      "metadata": {
        "id": "qLAAloubfyVW"
      },
      "source": [
        "### List Q13\n",
        "\n",
        "**Problem:** Add an element to the end of a list using `append()`.\n",
        "\n",
        "**Expected answer should look like (example):**\n",
        "```\n",
        "[...original..., 99]\n",
        "```"
      ],
      "id": "qLAAloubfyVW"
    },
    {
      "cell_type": "code",
      "execution_count": 34,
      "metadata": {
        "id": "JAEwIYJUfyVW",
        "colab": {
          "base_uri": "https://localhost:8080/"
        },
        "outputId": "ab02b267-3da5-4f8c-db48-97bf7c89c925"
      },
      "outputs": [
        {
          "output_type": "stream",
          "name": "stdout",
          "text": [
            "[1, 2, 3, 4, 5, 99]\n"
          ]
        }
      ],
      "source": [
        "# write your code here\n",
        "list = [1, 2, 3, 4, 5]\n",
        "list.append(99)\n",
        "print(list)"
      ],
      "id": "JAEwIYJUfyVW"
    },
    {
      "cell_type": "markdown",
      "metadata": {
        "id": "7FZcvrd6fyVW"
      },
      "source": [
        "### List Q14\n",
        "\n",
        "**Problem:** Insert an element at the second position in a list.\n",
        "\n",
        "**Expected answer should look like (example):**\n",
        "```\n",
        "[first, NEW, rest...]\n",
        "```"
      ],
      "id": "7FZcvrd6fyVW"
    },
    {
      "cell_type": "code",
      "execution_count": 36,
      "metadata": {
        "id": "xSlSO0mOfyVW",
        "colab": {
          "base_uri": "https://localhost:8080/"
        },
        "outputId": "77fd615b-2e90-4df3-ece6-a476695d182f"
      },
      "outputs": [
        {
          "output_type": "stream",
          "name": "stdout",
          "text": [
            "[1, 99, 2, 3, 4, 5]\n"
          ]
        }
      ],
      "source": [
        "# write your code here\n",
        "list = [1, 2, 3, 4, 5]\n",
        "list.insert(1, 99)\n",
        "print(list)"
      ],
      "id": "xSlSO0mOfyVW"
    },
    {
      "cell_type": "markdown",
      "metadata": {
        "id": "lvazvs0efyVW"
      },
      "source": [
        "### List Q15\n",
        "\n",
        "**Problem:** Remove an element from a list using `remove()`.\n",
        "\n",
        "**Expected answer should look like (example):**\n",
        "```\n",
        "[list without that value]\n",
        "```"
      ],
      "id": "lvazvs0efyVW"
    },
    {
      "cell_type": "code",
      "execution_count": 39,
      "metadata": {
        "id": "IWI8ZjrPfyVW",
        "colab": {
          "base_uri": "https://localhost:8080/"
        },
        "outputId": "a7536135-f543-44b1-ddd5-48d87e107a96"
      },
      "outputs": [
        {
          "output_type": "stream",
          "name": "stdout",
          "text": [
            "[1, 2, 7, 4]\n"
          ]
        }
      ],
      "source": [
        "# write your code here\n",
        "list = [1, 2, 7, 4, 3]\n",
        "list.remove(3)\n",
        "print(list)"
      ],
      "id": "IWI8ZjrPfyVW"
    },
    {
      "cell_type": "markdown",
      "metadata": {
        "id": "Se9S-xEmfyVW"
      },
      "source": [
        "### List Q16\n",
        "\n",
        "**Problem:** Remove and return the last element of a list using `pop()`.\n",
        "\n",
        "**Expected answer should look like (example):**\n",
        "```\n",
        "popped_value  # and list becomes [..., without last]\n",
        "```"
      ],
      "id": "Se9S-xEmfyVW"
    },
    {
      "cell_type": "code",
      "execution_count": 40,
      "metadata": {
        "id": "WHUV0hJefyVW",
        "colab": {
          "base_uri": "https://localhost:8080/"
        },
        "outputId": "3bd742c9-c427-4dac-c94b-4cf76e48f9fa"
      },
      "outputs": [
        {
          "output_type": "stream",
          "name": "stdout",
          "text": [
            "5\n",
            "[1, 2, 3, 4]\n"
          ]
        }
      ],
      "source": [
        "# write your code here\n",
        "list = [1, 2, 3, 4, 5]\n",
        "p_v = list.pop()\n",
        "print(p_v)\n",
        "print(list)"
      ],
      "id": "WHUV0hJefyVW"
    },
    {
      "cell_type": "markdown",
      "metadata": {
        "id": "Cdiq_m0ufyVX"
      },
      "source": [
        "### List Q17\n",
        "\n",
        "**Problem:** Find the length of a list **without** using the `len()` function.\n",
        "\n",
        "**Expected answer should look like (example):**\n",
        "```\n",
        "10  # manual count with loop\n",
        "```"
      ],
      "id": "Cdiq_m0ufyVX"
    },
    {
      "cell_type": "code",
      "execution_count": 42,
      "metadata": {
        "id": "zDB8NF_XfyVX",
        "colab": {
          "base_uri": "https://localhost:8080/"
        },
        "outputId": "fe565869-ae6f-40a1-f395-7c7d9d51b4e0"
      },
      "outputs": [
        {
          "output_type": "stream",
          "name": "stdout",
          "text": [
            "5\n"
          ]
        }
      ],
      "source": [
        "# write your code here\n",
        "list = [1, 2, 3, 4, 5]\n",
        "count = 0\n",
        "for item in list:\n",
        "  count += 1\n",
        "print(count)"
      ],
      "id": "zDB8NF_XfyVX"
    },
    {
      "cell_type": "markdown",
      "metadata": {
        "id": "PJjb0FSafyVX"
      },
      "source": [
        "### List Q18\n",
        "\n",
        "**Problem:** Slice a list to get the first 5 elements.\n",
        "\n",
        "**Expected answer should look like (example):**\n",
        "```\n",
        "lst[:5] -> first five elements\n",
        "```"
      ],
      "id": "PJjb0FSafyVX"
    },
    {
      "cell_type": "code",
      "execution_count": 45,
      "metadata": {
        "id": "Hgf3_8IcfyVX",
        "colab": {
          "base_uri": "https://localhost:8080/"
        },
        "outputId": "8c795da4-4360-4cc6-cb0f-97b7a6ae2085"
      },
      "outputs": [
        {
          "output_type": "stream",
          "name": "stdout",
          "text": [
            "[1, 2, 3, 4, 5]\n"
          ]
        }
      ],
      "source": [
        "# write your code here\n",
        "list = [1, 2, 3, 4, 5, 6]\n",
        "print(list[:5])"
      ],
      "id": "Hgf3_8IcfyVX"
    },
    {
      "cell_type": "markdown",
      "metadata": {
        "id": "vy6IHVyxfyVX"
      },
      "source": [
        "### List Q19\n",
        "\n",
        "**Problem:** Reverse a list using slicing.\n",
        "\n",
        "**Expected answer should look like (example):**\n",
        "```\n",
        "reversed_list  # lst[::-1]\n",
        "```"
      ],
      "id": "vy6IHVyxfyVX"
    },
    {
      "cell_type": "code",
      "execution_count": 46,
      "metadata": {
        "id": "-GzdbhQzfyVX",
        "colab": {
          "base_uri": "https://localhost:8080/"
        },
        "outputId": "6706c7c7-c9f1-4542-b6e7-add244dc26c6"
      },
      "outputs": [
        {
          "output_type": "stream",
          "name": "stdout",
          "text": [
            "[5, 4, 3, 2, 1]\n"
          ]
        }
      ],
      "source": [
        "# write your code here\n",
        "list = [1, 2, 3, 4, 5]\n",
        "print(list[::-1])"
      ],
      "id": "-GzdbhQzfyVX"
    },
    {
      "cell_type": "markdown",
      "metadata": {
        "id": "HrmHD5tHfyVb"
      },
      "source": [
        "### List Q20\n",
        "\n",
        "**Problem:** Check if an element exists in a list using `in`.\n",
        "\n",
        "**Expected answer should look like (example):**\n",
        "```\n",
        "True/False\n",
        "```"
      ],
      "id": "HrmHD5tHfyVb"
    },
    {
      "cell_type": "code",
      "execution_count": 47,
      "metadata": {
        "id": "j83Skl7sfyVb",
        "colab": {
          "base_uri": "https://localhost:8080/"
        },
        "outputId": "0d5c214b-00b5-492f-9379-13fd0652897d"
      },
      "outputs": [
        {
          "output_type": "stream",
          "name": "stdout",
          "text": [
            "True\n"
          ]
        }
      ],
      "source": [
        "# write your code here\n",
        "list = [1, 2, 3, 4, 5]\n",
        "print(3 in list)"
      ],
      "id": "j83Skl7sfyVb"
    },
    {
      "cell_type": "markdown",
      "metadata": {
        "id": "K51fd9txfyVb"
      },
      "source": [
        "### List Q21\n",
        "\n",
        "**Problem:** Concatenate two lists using the `+` operator.\n",
        "\n",
        "**Expected answer should look like (example):**\n",
        "```\n",
        "[combined elements]\n",
        "```"
      ],
      "id": "K51fd9txfyVb"
    },
    {
      "cell_type": "code",
      "execution_count": 48,
      "metadata": {
        "id": "VjBkHE1WfyVb",
        "colab": {
          "base_uri": "https://localhost:8080/"
        },
        "outputId": "d4772306-24a8-4b62-9b9b-d7e7dc27f336"
      },
      "outputs": [
        {
          "output_type": "stream",
          "name": "stdout",
          "text": [
            "[1, 2, 3, 4, 5, 6]\n"
          ]
        }
      ],
      "source": [
        "# write your code here\n",
        "list1 = [1, 2, 3]\n",
        "list2 = [4, 5, 6]\n",
        "print(list1 + list2)"
      ],
      "id": "VjBkHE1WfyVb"
    },
    {
      "cell_type": "markdown",
      "metadata": {
        "id": "UrDqHcRPfyVb"
      },
      "source": [
        "### List Q22\n",
        "\n",
        "**Problem:** Find the sum of all elements in a list.\n",
        "\n",
        "**Expected answer should look like (example):**\n",
        "```\n",
        "numeric_sum\n",
        "```"
      ],
      "id": "UrDqHcRPfyVb"
    },
    {
      "cell_type": "code",
      "execution_count": 49,
      "metadata": {
        "id": "ngMHgBd_fyVb",
        "colab": {
          "base_uri": "https://localhost:8080/"
        },
        "outputId": "2a8ac1e7-c295-4304-f042-d9c83b425c20"
      },
      "outputs": [
        {
          "output_type": "stream",
          "name": "stdout",
          "text": [
            "15\n"
          ]
        }
      ],
      "source": [
        "# write your code here\n",
        "list = [1, 2, 3, 4, 5]\n",
        "print(sum(list))"
      ],
      "id": "ngMHgBd_fyVb"
    },
    {
      "cell_type": "markdown",
      "metadata": {
        "id": "wSQRcLcNfyVb"
      },
      "source": [
        "### List Q23\n",
        "\n",
        "**Problem:** Use list comprehension to generate a list of odd numbers from 1 to 10.\n",
        "\n",
        "**Expected answer should look like (example):**\n",
        "```\n",
        "[1, 3, 5, 7, 9]\n",
        "```"
      ],
      "id": "wSQRcLcNfyVb"
    },
    {
      "cell_type": "code",
      "execution_count": 50,
      "metadata": {
        "id": "6aBwuaj2fyVc",
        "colab": {
          "base_uri": "https://localhost:8080/"
        },
        "outputId": "eb4b6f45-7e9c-4d8f-ca80-251a82f73f6d"
      },
      "outputs": [
        {
          "output_type": "stream",
          "name": "stdout",
          "text": [
            "[1, 3, 5, 7, 9]\n"
          ]
        }
      ],
      "source": [
        "# write your code here\n",
        "print([item for item in range(1, 11) if item % 2 != 0])"
      ],
      "id": "6aBwuaj2fyVc"
    },
    {
      "cell_type": "markdown",
      "metadata": {
        "id": "IQEJlGtWfyVc"
      },
      "source": [
        "### List Q24\n",
        "\n",
        "**Problem:** Convert a list with duplicate elements into a set to remove duplicates.\n",
        "\n",
        "**Expected answer should look like (example):**\n",
        "```\n",
        "{unique_elements}\n",
        "```"
      ],
      "id": "IQEJlGtWfyVc"
    },
    {
      "cell_type": "code",
      "execution_count": 51,
      "metadata": {
        "id": "2L_StV1tfyVc",
        "colab": {
          "base_uri": "https://localhost:8080/"
        },
        "outputId": "0bb62d11-a818-4918-fc74-f794bb1d2d48"
      },
      "outputs": [
        {
          "output_type": "stream",
          "name": "stdout",
          "text": [
            "{1, 2, 3, 4, 5}\n"
          ]
        }
      ],
      "source": [
        "# write your code here\n",
        "list = [1, 2, 3, 3, 4, 5, 5]\n",
        "print(set(list))"
      ],
      "id": "2L_StV1tfyVc"
    },
    {
      "cell_type": "markdown",
      "metadata": {
        "id": "EELV4nHgfyVc"
      },
      "source": [
        "### List Q25\n",
        "\n",
        "**Problem:** Convert a string to a list of its characters.\n",
        "\n",
        "**Expected answer should look like (example):**\n",
        "```\n",
        "['h','e','l','l','o']\n",
        "```"
      ],
      "id": "EELV4nHgfyVc"
    },
    {
      "cell_type": "code",
      "execution_count": 53,
      "metadata": {
        "id": "RtuvzGP7fyVc",
        "colab": {
          "base_uri": "https://localhost:8080/"
        },
        "outputId": "92a5557e-0957-4620-9a70-46d2839cbd85"
      },
      "outputs": [
        {
          "output_type": "stream",
          "name": "stdout",
          "text": [
            "['h', 'e', 'l', 'l', 'o']\n"
          ]
        }
      ],
      "source": [
        "# write your code here\n",
        "del list\n",
        "string = \"hello\"\n",
        "print(list(string))"
      ],
      "id": "RtuvzGP7fyVc"
    },
    {
      "cell_type": "markdown",
      "metadata": {
        "id": "7h2II8C9fyVc"
      },
      "source": [
        "### List Q26\n",
        "\n",
        "**Problem:** Multiply all items in a list using a loop.\n",
        "\n",
        "**Expected answer should look like (example):**\n",
        "```\n",
        "product_value\n",
        "```"
      ],
      "id": "7h2II8C9fyVc"
    },
    {
      "cell_type": "code",
      "execution_count": 54,
      "metadata": {
        "id": "JvKxVBchfyVc",
        "colab": {
          "base_uri": "https://localhost:8080/"
        },
        "outputId": "00e4386e-8488-4545-ee66-f92b3c9269f9"
      },
      "outputs": [
        {
          "output_type": "stream",
          "name": "stdout",
          "text": [
            "120\n"
          ]
        }
      ],
      "source": [
        "# write your code here\n",
        "list = [1, 2, 3, 4, 5]\n",
        "product = 1\n",
        "for item in list:\n",
        "  product *= item\n",
        "print(product)"
      ],
      "id": "JvKxVBchfyVc"
    },
    {
      "cell_type": "markdown",
      "metadata": {
        "id": "Na-zJ1YdfyVc"
      },
      "source": [
        "### List Q27\n",
        "\n",
        "**Problem:** Sort a list of numbers in ascending order.\n",
        "\n",
        "**Expected answer should look like (example):**\n",
        "```\n",
        "[sorted numbers asc]\n",
        "```"
      ],
      "id": "Na-zJ1YdfyVc"
    },
    {
      "cell_type": "code",
      "execution_count": 55,
      "metadata": {
        "id": "DFe5IEEAfyVc",
        "colab": {
          "base_uri": "https://localhost:8080/"
        },
        "outputId": "daf278dc-b247-43c8-9001-5c1260d9d7df"
      },
      "outputs": [
        {
          "output_type": "stream",
          "name": "stdout",
          "text": [
            "[1, 2, 3, 4, 5]\n"
          ]
        }
      ],
      "source": [
        "# write your code here\n",
        "list = [5, 4, 3, 2, 1]\n",
        "list.sort()\n",
        "print(list)"
      ],
      "id": "DFe5IEEAfyVc"
    },
    {
      "cell_type": "markdown",
      "metadata": {
        "id": "qZW5tg5rfyVc"
      },
      "source": [
        "### List Q28\n",
        "\n",
        "**Problem:** Clear all elements from a list using `clear()`.\n",
        "\n",
        "**Expected answer should look like (example):**\n",
        "```\n",
        "[]\n",
        "```"
      ],
      "id": "qZW5tg5rfyVc"
    },
    {
      "cell_type": "code",
      "execution_count": 56,
      "metadata": {
        "id": "jso3gUtvfyVc",
        "colab": {
          "base_uri": "https://localhost:8080/"
        },
        "outputId": "392ef80e-9908-4efa-e3ba-11e419c52d51"
      },
      "outputs": [
        {
          "output_type": "stream",
          "name": "stdout",
          "text": [
            "[]\n"
          ]
        }
      ],
      "source": [
        "# write your code here\n",
        "list = [1, 2, 3, 4, 5]\n",
        "list.clear()\n",
        "print(list)"
      ],
      "id": "jso3gUtvfyVc"
    },
    {
      "cell_type": "markdown",
      "metadata": {
        "id": "G751txAVfyVc"
      },
      "source": [
        "### List Q29\n",
        "\n",
        "**Problem:** Use a `while` loop to iterate through a list.\n",
        "\n",
        "**Expected answer should look like (example):**\n",
        "```\n",
        "each element printed/processed\n",
        "```"
      ],
      "id": "G751txAVfyVc"
    },
    {
      "cell_type": "code",
      "execution_count": 57,
      "metadata": {
        "id": "VVnSkIvPfyVd",
        "colab": {
          "base_uri": "https://localhost:8080/"
        },
        "outputId": "633b38fb-e50e-4b01-c92e-5433a7b18a5a"
      },
      "outputs": [
        {
          "output_type": "stream",
          "name": "stdout",
          "text": [
            "1\n",
            "2\n",
            "3\n",
            "4\n",
            "5\n"
          ]
        }
      ],
      "source": [
        "# write your code here\n",
        "list = [1, 2, 3, 4, 5]\n",
        "index = 0\n",
        "while index < len(list):\n",
        "  print(list[index])\n",
        "  index += 1"
      ],
      "id": "VVnSkIvPfyVd"
    },
    {
      "cell_type": "markdown",
      "metadata": {
        "id": "cduQw_jHfyVd"
      },
      "source": [
        "### List Q30\n",
        "\n",
        "**Problem:** Use a `for` loop with `enumerate()` to print index and value.\n",
        "\n",
        "**Expected answer should look like (example):**\n",
        "```\n",
        "index: value\n",
        "```"
      ],
      "id": "cduQw_jHfyVd"
    },
    {
      "cell_type": "code",
      "execution_count": 60,
      "metadata": {
        "id": "oeZBqKEOfyVd",
        "colab": {
          "base_uri": "https://localhost:8080/"
        },
        "outputId": "e46cc1ee-d89c-44f8-d84e-1397cb03d753"
      },
      "outputs": [
        {
          "output_type": "stream",
          "name": "stdout",
          "text": [
            "index: 0, value: 1\n",
            "index: 1, value: 2\n",
            "index: 2, value: 3\n",
            "index: 3, value: 4\n",
            "index: 4, value: 5\n"
          ]
        }
      ],
      "source": [
        "# write your code here\n",
        "list = [1, 2, 3, 4, 5]\n",
        "for index, value in enumerate(list):\n",
        "  print(f\"index: {index}, value: {value}\")"
      ],
      "id": "oeZBqKEOfyVd"
    },
    {
      "cell_type": "markdown",
      "metadata": {
        "id": "zFd9UtnbfyVd"
      },
      "source": [
        "### List Q31\n",
        "\n",
        "**Problem:** Find the index of an element in a list using `index()`.\n",
        "\n",
        "**Expected answer should look like (example):**\n",
        "```\n",
        "integer_index\n",
        "```"
      ],
      "id": "zFd9UtnbfyVd"
    },
    {
      "cell_type": "code",
      "execution_count": 61,
      "metadata": {
        "id": "cPlSAo-8fyVd",
        "colab": {
          "base_uri": "https://localhost:8080/"
        },
        "outputId": "521f3576-aa55-445c-a16a-e4adf782d39b"
      },
      "outputs": [
        {
          "output_type": "stream",
          "name": "stdout",
          "text": [
            "2\n"
          ]
        }
      ],
      "source": [
        "# write your code here\n",
        "list = [1, 2, 3, 4, 5]\n",
        "print(list.index(3))"
      ],
      "id": "cPlSAo-8fyVd"
    },
    {
      "cell_type": "markdown",
      "metadata": {
        "id": "gbu56yUMfyVd"
      },
      "source": [
        "### Tuples Q1\n",
        "\n",
        "**Problem:** Create a tuple with elements from 1 to 5.\n",
        "\n",
        "**Expected answer should look like (example):**\n",
        "```\n",
        "(1, 2, 3, 4, 5)\n",
        "```"
      ],
      "id": "gbu56yUMfyVd"
    },
    {
      "cell_type": "code",
      "execution_count": 69,
      "metadata": {
        "id": "eO6CeCapfyVd",
        "colab": {
          "base_uri": "https://localhost:8080/"
        },
        "outputId": "8d29bb2d-4fcc-441c-a793-4f5b0af3e5d6"
      },
      "outputs": [
        {
          "output_type": "stream",
          "name": "stdout",
          "text": [
            "(1, 2, 3, 4, 5)\n"
          ]
        }
      ],
      "source": [
        "# write your code here\n",
        "\n",
        "numbers = tuple(range(1, 6))\n",
        "print(numbers)\n"
      ],
      "id": "eO6CeCapfyVd"
    },
    {
      "cell_type": "markdown",
      "metadata": {
        "id": "bL2uXcsyfyVd"
      },
      "source": [
        "### Tuples Q2\n",
        "\n",
        "**Problem:** Access the third element in a tuple.\n",
        "\n",
        "**Expected answer should look like (example):**\n",
        "```\n",
        "value_at_index_2\n",
        "```"
      ],
      "id": "bL2uXcsyfyVd"
    },
    {
      "cell_type": "code",
      "execution_count": 70,
      "metadata": {
        "id": "CcmxEwb5fyVd",
        "colab": {
          "base_uri": "https://localhost:8080/"
        },
        "outputId": "4c63664c-0a3b-47a5-9c71-3db21da449dc"
      },
      "outputs": [
        {
          "output_type": "stream",
          "name": "stdout",
          "text": [
            "3\n"
          ]
        }
      ],
      "source": [
        "# write your code here\n",
        "tuple = (1, 2, 3, 4, 5)\n",
        "print(tuple[2])"
      ],
      "id": "CcmxEwb5fyVd"
    },
    {
      "cell_type": "markdown",
      "metadata": {
        "id": "yVfJnjdIfyVd"
      },
      "source": [
        "### Tuples Q3\n",
        "\n",
        "**Problem:** Slice a tuple to get the last 3 elements.\n",
        "\n",
        "**Expected answer should look like (example):**\n",
        "```\n",
        "(last3,)\n",
        "```"
      ],
      "id": "yVfJnjdIfyVd"
    },
    {
      "cell_type": "code",
      "execution_count": 71,
      "metadata": {
        "id": "_Flfm1X0fyVd",
        "colab": {
          "base_uri": "https://localhost:8080/"
        },
        "outputId": "e1172018-f068-4641-9b14-ca91fbe4ff55"
      },
      "outputs": [
        {
          "output_type": "stream",
          "name": "stdout",
          "text": [
            "(3, 4, 5)\n"
          ]
        }
      ],
      "source": [
        "# write your code here\n",
        "tuple = (1, 2, 3, 4, 5)\n",
        "print(tuple[-3:])"
      ],
      "id": "_Flfm1X0fyVd"
    },
    {
      "cell_type": "markdown",
      "metadata": {
        "id": "qWC68fe8fyVd"
      },
      "source": [
        "### Tuples Q4\n",
        "\n",
        "**Problem:** Check if an element exists in a tuple using `in`.\n",
        "\n",
        "**Expected answer should look like (example):**\n",
        "```\n",
        "True/False\n",
        "```"
      ],
      "id": "qWC68fe8fyVd"
    },
    {
      "cell_type": "code",
      "execution_count": 72,
      "metadata": {
        "id": "LBZY1QqbfyVd",
        "colab": {
          "base_uri": "https://localhost:8080/"
        },
        "outputId": "9338c7f4-630a-4bdf-d010-8ecac28873e6"
      },
      "outputs": [
        {
          "output_type": "stream",
          "name": "stdout",
          "text": [
            "True\n"
          ]
        }
      ],
      "source": [
        "# write your code here\n",
        "tuple = (1, 2, 3, 4, 5)\n",
        "print(3 in tuple)"
      ],
      "id": "LBZY1QqbfyVd"
    },
    {
      "cell_type": "markdown",
      "metadata": {
        "id": "MHDJ8V3pfyVe"
      },
      "source": [
        "### Tuples Q5\n",
        "\n",
        "**Problem:** Find the index of an element in a tuple.\n",
        "\n",
        "**Expected answer should look like (example):**\n",
        "```\n",
        "integer_index\n",
        "```"
      ],
      "id": "MHDJ8V3pfyVe"
    },
    {
      "cell_type": "code",
      "execution_count": 73,
      "metadata": {
        "id": "lIuu_klOfyVe",
        "colab": {
          "base_uri": "https://localhost:8080/"
        },
        "outputId": "e35d7743-f8d3-48ae-a13e-d8af3dd3c050"
      },
      "outputs": [
        {
          "output_type": "stream",
          "name": "stdout",
          "text": [
            "2\n"
          ]
        }
      ],
      "source": [
        "# write your code here\n",
        "tuple = (1, 2, 3, 4, 5)\n",
        "print(tuple.index(3))"
      ],
      "id": "lIuu_klOfyVe"
    },
    {
      "cell_type": "markdown",
      "metadata": {
        "id": "qdDgmuL3fyVe"
      },
      "source": [
        "### Tuples Q6\n",
        "\n",
        "**Problem:** Count the occurrences of an element in a tuple.\n",
        "\n",
        "**Expected answer should look like (example):**\n",
        "```\n",
        "count_value\n",
        "```"
      ],
      "id": "qdDgmuL3fyVe"
    },
    {
      "cell_type": "code",
      "execution_count": 74,
      "metadata": {
        "id": "ZKBvIlJzfyVe",
        "colab": {
          "base_uri": "https://localhost:8080/"
        },
        "outputId": "10e59b01-7398-4ba2-9f4f-76a12ce7f997"
      },
      "outputs": [
        {
          "output_type": "stream",
          "name": "stdout",
          "text": [
            "2\n"
          ]
        }
      ],
      "source": [
        "# write your code here\n",
        "tuple = (1, 2, 3, 3, 4, 5)\n",
        "print(tuple.count(3))"
      ],
      "id": "ZKBvIlJzfyVe"
    },
    {
      "cell_type": "markdown",
      "metadata": {
        "id": "FphgWkIKfyVe"
      },
      "source": [
        "### Tuples Q7\n",
        "\n",
        "**Problem:** Create a nested tuple and access an element from it.\n",
        "\n",
        "**Expected answer should look like (example):**\n",
        "```\n",
        "nested_value\n",
        "```"
      ],
      "id": "FphgWkIKfyVe"
    },
    {
      "cell_type": "code",
      "execution_count": 75,
      "metadata": {
        "id": "HnvdVBUNfyVe",
        "colab": {
          "base_uri": "https://localhost:8080/"
        },
        "outputId": "6585a7d6-d183-4a7b-e085-b2910b7b960c"
      },
      "outputs": [
        {
          "output_type": "stream",
          "name": "stdout",
          "text": [
            "2\n"
          ]
        }
      ],
      "source": [
        "# write your code here\n",
        "nested_tuple = ((1, 2), (3, 4))\n",
        "print(nested_tuple[0][1])"
      ],
      "id": "HnvdVBUNfyVe"
    },
    {
      "cell_type": "markdown",
      "metadata": {
        "id": "cJGrrJa3fyVe"
      },
      "source": [
        "### Tuples Q8\n",
        "\n",
        "**Problem:** Check if two tuples are equal.\n",
        "\n",
        "**Expected answer should look like (example):**\n",
        "```\n",
        "True/False\n",
        "```"
      ],
      "id": "cJGrrJa3fyVe"
    },
    {
      "cell_type": "code",
      "execution_count": 76,
      "metadata": {
        "id": "yrtoIoESfyVe",
        "colab": {
          "base_uri": "https://localhost:8080/"
        },
        "outputId": "802a9d4b-b48c-4c0c-e56b-f00b0c90cfc3"
      },
      "outputs": [
        {
          "output_type": "stream",
          "name": "stdout",
          "text": [
            "True\n"
          ]
        }
      ],
      "source": [
        "# write your code here\n",
        "tuple1 = (1, 2, 3)\n",
        "tuple2 = (1, 2, 3)\n",
        "print(tuple1 == tuple2)"
      ],
      "id": "yrtoIoESfyVe"
    },
    {
      "cell_type": "markdown",
      "metadata": {
        "id": "-LNfyhfEfyVe"
      },
      "source": [
        "### Tuples Q9\n",
        "\n",
        "**Problem:** Convert a list to a tuple.\n",
        "\n",
        "**Expected answer should look like (example):**\n",
        "```\n",
        "tuple(list)\n",
        "```"
      ],
      "id": "-LNfyhfEfyVe"
    },
    {
      "cell_type": "code",
      "execution_count": 78,
      "metadata": {
        "id": "qVjr5RJFfyVe",
        "colab": {
          "base_uri": "https://localhost:8080/"
        },
        "outputId": "9ac4dd99-71cb-448a-f27b-bb5df3294d7b"
      },
      "outputs": [
        {
          "output_type": "stream",
          "name": "stdout",
          "text": [
            "(1, 2, 3, 4, 5)\n"
          ]
        }
      ],
      "source": [
        "# write your code here\n",
        "del tuple\n",
        "list = [1, 2, 3, 4, 5]\n",
        "print(tuple(list))"
      ],
      "id": "qVjr5RJFfyVe"
    },
    {
      "cell_type": "markdown",
      "metadata": {
        "id": "2z6vK3lcfyVe"
      },
      "source": [
        "### Tuples Q10\n",
        "\n",
        "**Problem:** Create a tuple of integers and find its sum.\n",
        "\n",
        "**Expected answer should look like (example):**\n",
        "```\n",
        "sum_value\n",
        "```"
      ],
      "id": "2z6vK3lcfyVe"
    },
    {
      "cell_type": "code",
      "execution_count": 79,
      "metadata": {
        "id": "2wvATIXwfyVe",
        "colab": {
          "base_uri": "https://localhost:8080/"
        },
        "outputId": "5f002bd6-9e3c-4664-beef-7b6d44dc99a1"
      },
      "outputs": [
        {
          "output_type": "stream",
          "name": "stdout",
          "text": [
            "15\n"
          ]
        }
      ],
      "source": [
        "# write your code here\n",
        "tuple = (1, 2, 3, 4, 5)\n",
        "print(sum(tuple))"
      ],
      "id": "2wvATIXwfyVe"
    },
    {
      "cell_type": "markdown",
      "metadata": {
        "id": "AL5_V1DRfyVe"
      },
      "source": [
        "### Tuples Q11\n",
        "\n",
        "**Problem:** Create a tuple using the `tuple()` constructor.\n",
        "\n",
        "**Expected answer should look like (example):**\n",
        "```\n",
        "tuple_from_iterable\n",
        "```"
      ],
      "id": "AL5_V1DRfyVe"
    },
    {
      "cell_type": "code",
      "execution_count": 81,
      "metadata": {
        "id": "J3H2rnqifyVf",
        "colab": {
          "base_uri": "https://localhost:8080/"
        },
        "outputId": "e83faf61-5a31-42b7-e98b-31c896a53352"
      },
      "outputs": [
        {
          "output_type": "stream",
          "name": "stdout",
          "text": [
            "(1, 2, 3, 4, 5)\n"
          ]
        }
      ],
      "source": [
        "# write your code here\n",
        "del tuple\n",
        "tuple = tuple(range(1, 6))\n",
        "print(tuple)"
      ],
      "id": "J3H2rnqifyVf"
    },
    {
      "cell_type": "markdown",
      "metadata": {
        "id": "UZHJ8sV2fyVf"
      },
      "source": [
        "### Tuples Q12\n",
        "\n",
        "**Problem:** Use a `for` loop to iterate through a tuple.\n",
        "\n",
        "**Expected answer should look like (example):**\n",
        "```\n",
        "elements printed/processed\n",
        "```"
      ],
      "id": "UZHJ8sV2fyVf"
    },
    {
      "cell_type": "code",
      "execution_count": 82,
      "metadata": {
        "id": "hWTzzxbQfyVf",
        "colab": {
          "base_uri": "https://localhost:8080/"
        },
        "outputId": "047d2c7d-4934-4e57-a682-9cf73ce6f083"
      },
      "outputs": [
        {
          "output_type": "stream",
          "name": "stdout",
          "text": [
            "1\n",
            "2\n",
            "3\n",
            "4\n",
            "5\n"
          ]
        }
      ],
      "source": [
        "# write your code here\n",
        "tuple = (1, 2, 3, 4, 5)\n",
        "for item in tuple:\n",
        "  print(item)"
      ],
      "id": "hWTzzxbQfyVf"
    },
    {
      "cell_type": "markdown",
      "metadata": {
        "id": "DrMe5TzIfyVf"
      },
      "source": [
        "### Tuples Q13\n",
        "\n",
        "**Problem:** Try modifying a tuple element and handle the error.\n",
        "\n",
        "**Expected answer should look like (example):**\n",
        "```\n",
        "TypeError handled\n",
        "```"
      ],
      "id": "DrMe5TzIfyVf"
    },
    {
      "cell_type": "code",
      "execution_count": 4,
      "metadata": {
        "id": "lKiryIUUfyVf",
        "colab": {
          "base_uri": "https://localhost:8080/"
        },
        "outputId": "395f39f1-3dcc-43c6-ee9d-a17a78d97b03"
      },
      "outputs": [
        {
          "output_type": "stream",
          "name": "stdout",
          "text": [
            "TypeError handled\n"
          ]
        }
      ],
      "source": [
        "# write your code here\n",
        "\n",
        "tuple = (1, 2, 3, 4, 5)\n",
        "try:\n",
        "  tuple[0] = 6\n",
        "  print(tuple)\n",
        "except TypeError:\n",
        "  print(\"TypeError handled\")"
      ],
      "id": "lKiryIUUfyVf"
    },
    {
      "cell_type": "markdown",
      "metadata": {
        "id": "YhvKphyXfyVf"
      },
      "source": [
        "### Tuples Q14\n",
        "\n",
        "**Problem:** Unpack a tuple into individual variables.\n",
        "\n",
        "**Expected answer should look like (example):**\n",
        "```\n",
        "a b c ... assigned\n",
        "```"
      ],
      "id": "YhvKphyXfyVf"
    },
    {
      "cell_type": "code",
      "execution_count": 6,
      "metadata": {
        "id": "OWtwQmw3fyVf",
        "colab": {
          "base_uri": "https://localhost:8080/"
        },
        "outputId": "ed10d129-d10d-4fc8-be46-cf0c713aacdf"
      },
      "outputs": [
        {
          "output_type": "stream",
          "name": "stdout",
          "text": [
            "John\n",
            "25\n",
            "New York\n"
          ]
        }
      ],
      "source": [
        "# write your code here\n",
        "person = (\"John\", 25, \"New York\")\n",
        "name, age, city = person\n",
        "print(name)\n",
        "print(age)\n",
        "print(city)"
      ],
      "id": "OWtwQmw3fyVf"
    },
    {
      "cell_type": "markdown",
      "metadata": {
        "id": "MkF0atcFfyVf"
      },
      "source": [
        "### Tuples Q15\n",
        "\n",
        "**Problem:** Use a tuple inside a dictionary as a key.\n",
        "\n",
        "**Expected answer should look like (example):**\n",
        "```\n",
        "{(1,2): 'value'}\n",
        "```"
      ],
      "id": "MkF0atcFfyVf"
    },
    {
      "cell_type": "code",
      "execution_count": 7,
      "metadata": {
        "id": "6C4iwP6ZfyVf",
        "colab": {
          "base_uri": "https://localhost:8080/"
        },
        "outputId": "64df3d77-764d-4a95-e2d0-1df7c89e204f"
      },
      "outputs": [
        {
          "output_type": "stream",
          "name": "stdout",
          "text": [
            "{(1, 2): 'value'}\n"
          ]
        }
      ],
      "source": [
        "# write your code here\n",
        "dictionary = {(1, 2): \"value\"}\n",
        "print(dictionary)"
      ],
      "id": "6C4iwP6ZfyVf"
    },
    {
      "cell_type": "markdown",
      "metadata": {
        "id": "oqBDYfK6fyVf"
      },
      "source": [
        "### Tuples Q16\n",
        "\n",
        "**Problem:** Find the length of a tuple using `len()`.\n",
        "\n",
        "**Expected answer should look like (example):**\n",
        "```\n",
        "length_value\n",
        "```"
      ],
      "id": "oqBDYfK6fyVf"
    },
    {
      "cell_type": "code",
      "execution_count": 8,
      "metadata": {
        "id": "fcp9Leg2fyVf",
        "colab": {
          "base_uri": "https://localhost:8080/"
        },
        "outputId": "1ce9883a-33e3-4d76-b156-2e3254fc97dc"
      },
      "outputs": [
        {
          "output_type": "stream",
          "name": "stdout",
          "text": [
            "5\n"
          ]
        }
      ],
      "source": [
        "# write your code here\n",
        "tuple = (1, 2, 3, 4, 5)\n",
        "print(len(tuple))"
      ],
      "id": "fcp9Leg2fyVf"
    },
    {
      "cell_type": "markdown",
      "metadata": {
        "id": "azW0Z5FRfyVf"
      },
      "source": [
        "### Tuples Q17\n",
        "\n",
        "**Problem:** Compare two tuples using relational operators.\n",
        "\n",
        "**Expected answer should look like (example):**\n",
        "```\n",
        "True/False based on lexicographic\n",
        "```"
      ],
      "id": "azW0Z5FRfyVf"
    },
    {
      "cell_type": "code",
      "execution_count": 9,
      "metadata": {
        "id": "DxFDZ_FPfyVg",
        "colab": {
          "base_uri": "https://localhost:8080/"
        },
        "outputId": "dc5ac118-8c0e-460c-bcef-9dfdfd934508"
      },
      "outputs": [
        {
          "output_type": "stream",
          "name": "stdout",
          "text": [
            "True\n",
            "False\n",
            "False\n"
          ]
        }
      ],
      "source": [
        "# write your code here\n",
        "t1 = (1, 2, 3)\n",
        "t2 = (1, 2, 4)\n",
        "\n",
        "print(t1 < t2)\n",
        "print(t1 > t2)\n",
        "print(t1 == t2)"
      ],
      "id": "DxFDZ_FPfyVg"
    },
    {
      "cell_type": "markdown",
      "metadata": {
        "id": "vyvlq4bWfyVg"
      },
      "source": [
        "### Tuples Q18\n",
        "\n",
        "**Problem:** Use `max()` and `min()` with a tuple.\n",
        "\n",
        "**Expected answer should look like (example):**\n",
        "```\n",
        "max_value, min_value\n",
        "```"
      ],
      "id": "vyvlq4bWfyVg"
    },
    {
      "cell_type": "code",
      "execution_count": 10,
      "metadata": {
        "id": "62KgdnSAfyVg",
        "colab": {
          "base_uri": "https://localhost:8080/"
        },
        "outputId": "dadc2768-afa7-4d86-f8a4-a736fc001013"
      },
      "outputs": [
        {
          "output_type": "stream",
          "name": "stdout",
          "text": [
            "9 1\n"
          ]
        }
      ],
      "source": [
        "# write your code here\n",
        "t = (5, 2, 9, 1, 7)\n",
        "max_value = max(t)\n",
        "min_value = min(t)\n",
        "print(max_value, min_value)"
      ],
      "id": "62KgdnSAfyVg"
    },
    {
      "cell_type": "markdown",
      "metadata": {
        "id": "HEENKlfkfyVg"
      },
      "source": [
        "### Tuples Q19\n",
        "\n",
        "**Problem:** Use a tuple inside another tuple and access nested values.\n",
        "\n",
        "**Expected answer should look like (example):**\n",
        "```\n",
        "nested_value\n",
        "```"
      ],
      "id": "HEENKlfkfyVg"
    },
    {
      "cell_type": "code",
      "execution_count": 12,
      "metadata": {
        "id": "URl8HuYFfyVg",
        "colab": {
          "base_uri": "https://localhost:8080/"
        },
        "outputId": "10416bcd-08d0-45c6-cb13-388e348ea39e"
      },
      "outputs": [
        {
          "output_type": "stream",
          "name": "stdout",
          "text": [
            "4\n"
          ]
        }
      ],
      "source": [
        "# write your code here\n",
        "nested_tuple = ((1, 2), (3, 4))\n",
        "print(nested_tuple[1][1])"
      ],
      "id": "URl8HuYFfyVg"
    },
    {
      "cell_type": "markdown",
      "metadata": {
        "id": "UzcLW_RPfyVg"
      },
      "source": [
        "### Tuples Q20\n",
        "\n",
        "**Problem:** Check the memory size of a tuple versus a list using `sys.getsizeof()`.\n",
        "\n",
        "**Expected answer should look like (example):**\n",
        "```\n",
        "e.g., tuple_size < list_size (often)\n",
        "```"
      ],
      "id": "UzcLW_RPfyVg"
    },
    {
      "cell_type": "code",
      "execution_count": 13,
      "metadata": {
        "id": "3CBhEviofyVg",
        "colab": {
          "base_uri": "https://localhost:8080/"
        },
        "outputId": "dd915eb7-5992-4ad8-8811-5de4b076b2b4"
      },
      "outputs": [
        {
          "output_type": "stream",
          "name": "stdout",
          "text": [
            "List size: 104 bytes\n",
            "Tuple size: 80 bytes\n"
          ]
        }
      ],
      "source": [
        "# write your code here\n",
        "import sys\n",
        "my_list = [1, 2, 3, 4, 5]\n",
        "my_tuple = (1, 2, 3, 4, 5)\n",
        "\n",
        "print(\"List size:\", sys.getsizeof(my_list), \"bytes\")\n",
        "print(\"Tuple size:\", sys.getsizeof(my_tuple), \"bytes\")\n"
      ],
      "id": "3CBhEviofyVg"
    },
    {
      "cell_type": "markdown",
      "metadata": {
        "id": "fd4yFydZfyVg"
      },
      "source": [
        "### Sets Q1\n",
        "\n",
        "**Problem:** Create a set with integers from 10 to 15.\n",
        "\n",
        "**Expected answer should look like (example):**\n",
        "```\n",
        "{10, 11, 12, 13, 14, 15} (order may vary)\n",
        "```"
      ],
      "id": "fd4yFydZfyVg"
    },
    {
      "cell_type": "code",
      "execution_count": null,
      "metadata": {
        "id": "5qqGXfs0fyVg",
        "colab": {
          "base_uri": "https://localhost:8080/"
        },
        "outputId": "8c061e1e-c0c0-4e02-eab2-4cb975565f25"
      },
      "outputs": [
        {
          "output_type": "stream",
          "name": "stdout",
          "text": [
            "{10, 11, 12, 13, 14, 15}\n"
          ]
        }
      ],
      "source": [
        "# write your code here\n",
        "\n",
        "set1 = set(range(10,16))\n",
        "print(set1)\n"
      ],
      "id": "5qqGXfs0fyVg"
    },
    {
      "cell_type": "markdown",
      "metadata": {
        "id": "0iSowp2CfyVg"
      },
      "source": [
        "### Sets Q2\n",
        "\n",
        "**Problem:** Add multiple elements to a set using `update()`.\n",
        "\n",
        "**Expected answer should look like (example):**\n",
        "```\n",
        "{...includes new elements...}\n",
        "```"
      ],
      "id": "0iSowp2CfyVg"
    },
    {
      "cell_type": "code",
      "execution_count": null,
      "metadata": {
        "id": "Z-upfIXtfyVg",
        "colab": {
          "base_uri": "https://localhost:8080/"
        },
        "outputId": "9be265f0-a386-4892-f784-bceec43e2b7c"
      },
      "outputs": [
        {
          "output_type": "stream",
          "name": "stdout",
          "text": [
            "{2, 3, 4.56, 7, 'sumit'}\n"
          ]
        }
      ],
      "source": [
        "# write your code here\n",
        "set2 = set()\n",
        "set2.add(\"sumit\")\n",
        "set2.update([2])\n",
        "set2.update([3])\n",
        "set2.update([4.56])\n",
        "set2.update([7])\n",
        "print(set2)\n"
      ],
      "id": "Z-upfIXtfyVg"
    },
    {
      "cell_type": "markdown",
      "metadata": {
        "id": "zAaYvSjvfyVg"
      },
      "source": [
        "### Sets Q3\n",
        "\n",
        "**Problem:** Check if a set is a subset of another set.\n",
        "\n",
        "**Expected answer should look like (example):**\n",
        "```\n",
        "True/False\n",
        "```"
      ],
      "id": "zAaYvSjvfyVg"
    },
    {
      "cell_type": "code",
      "execution_count": null,
      "metadata": {
        "id": "XNQuqIzUfyVg",
        "colab": {
          "base_uri": "https://localhost:8080/"
        },
        "outputId": "36d185dc-8e87-46ed-d341-f7fb655b4a43"
      },
      "outputs": [
        {
          "output_type": "stream",
          "name": "stdout",
          "text": [
            "True\n"
          ]
        }
      ],
      "source": [
        "# write your code here\n",
        "b = {1,1,1,5,5,5,5,7,4,7}\n",
        "b1 = {4,5,5,5}\n",
        "print(b1.issubset(b))"
      ],
      "id": "XNQuqIzUfyVg"
    },
    {
      "cell_type": "markdown",
      "metadata": {
        "id": "c0GUHapUfyVg"
      },
      "source": [
        "### Sets Q4\n",
        "\n",
        "**Problem:** Check if a set is a superset of another set.\n",
        "\n",
        "**Expected answer should look like (example):**\n",
        "```\n",
        "True/False\n",
        "```"
      ],
      "id": "c0GUHapUfyVg"
    },
    {
      "cell_type": "code",
      "execution_count": null,
      "metadata": {
        "id": "OUKyM0_ufyVg",
        "colab": {
          "base_uri": "https://localhost:8080/"
        },
        "outputId": "3a318ffb-13a5-4a70-a52d-97483a13bdcd"
      },
      "outputs": [
        {
          "output_type": "stream",
          "name": "stdout",
          "text": [
            "False\n"
          ]
        }
      ],
      "source": [
        "# write your code here\n",
        "c = {1,1,1,5,5,5,5,7,4,7}\n",
        "c1 = {4,5,5,5}\n",
        "print(c1.issuperset(c))"
      ],
      "id": "OUKyM0_ufyVg"
    },
    {
      "cell_type": "markdown",
      "metadata": {
        "id": "53FrXj6NfyVh"
      },
      "source": [
        "### Sets Q5\n",
        "\n",
        "**Problem:** Find the difference between two sets.\n",
        "\n",
        "**Expected answer should look like (example):**\n",
        "```\n",
        "A - B set\n",
        "```"
      ],
      "id": "53FrXj6NfyVh"
    },
    {
      "cell_type": "code",
      "execution_count": null,
      "metadata": {
        "id": "SbID0wZ3fyVh",
        "colab": {
          "base_uri": "https://localhost:8080/"
        },
        "outputId": "0b29f7e9-190e-4c92-c859-d480b8ac3f3a"
      },
      "outputs": [
        {
          "output_type": "stream",
          "name": "stdout",
          "text": [
            "{1, 7}\n"
          ]
        }
      ],
      "source": [
        "# write your code here\n",
        "A = {1,1,1,5,5,5,5,7,4,7}\n",
        "B = {4,5,5,5}\n",
        "print(A-B)"
      ],
      "id": "SbID0wZ3fyVh"
    },
    {
      "cell_type": "markdown",
      "metadata": {
        "id": "iC-Pvc3TfyVh"
      },
      "source": [
        "### Sets Q6\n",
        "\n",
        "**Problem:** Create a set of multiples of 3 from 1 to 15.\n",
        "\n",
        "**Expected answer should look like (example):**\n",
        "```\n",
        "{3, 6, 9, 12, 15}\n",
        "```"
      ],
      "id": "iC-Pvc3TfyVh"
    },
    {
      "cell_type": "code",
      "execution_count": 1,
      "metadata": {
        "id": "mgIRy9RvfyVh",
        "colab": {
          "base_uri": "https://localhost:8080/"
        },
        "outputId": "4661d054-1ac4-45c6-b7b0-bb6ec70d9ea3"
      },
      "outputs": [
        {
          "output_type": "stream",
          "name": "stdout",
          "text": [
            "{3, 6, 9, 12, 15}\n"
          ]
        }
      ],
      "source": [
        "# write your code here\n",
        "s  = set()\n",
        "for i in range(1, 16):\n",
        "  if i % 3 == 0:\n",
        "    s.add(i)\n",
        "print(s)\n"
      ],
      "id": "mgIRy9RvfyVh"
    },
    {
      "cell_type": "markdown",
      "metadata": {
        "id": "SwBOILWZfyVh"
      },
      "source": [
        "### Sets Q7\n",
        "\n",
        "**Problem:** Remove an element from a set using `discard()`.\n",
        "\n",
        "**Expected answer should look like (example):**\n",
        "```\n",
        "set without that element (no error if missing)\n",
        "```"
      ],
      "id": "SwBOILWZfyVh"
    },
    {
      "cell_type": "code",
      "execution_count": null,
      "metadata": {
        "id": "vHtkwEOgfyVh",
        "colab": {
          "base_uri": "https://localhost:8080/"
        },
        "outputId": "38fbc1d1-6003-4fd7-fb97-8f04abc0290d"
      },
      "outputs": [
        {
          "output_type": "stream",
          "name": "stdout",
          "text": [
            "{1, 4, 7}\n"
          ]
        }
      ],
      "source": [
        "# write your code here\n",
        "s= {1,1,1,5,5,5,5,7,4,7}\n",
        "s.discard(5)\n",
        "print(s)"
      ],
      "id": "vHtkwEOgfyVh"
    },
    {
      "cell_type": "markdown",
      "metadata": {
        "id": "0bIs5h7KfyVh"
      },
      "source": [
        "### Sets Q8\n",
        "\n",
        "**Problem:** Check if a set is empty.\n",
        "\n",
        "**Expected answer should look like (example):**\n",
        "```\n",
        "True/False\n",
        "```"
      ],
      "id": "0bIs5h7KfyVh"
    },
    {
      "cell_type": "code",
      "execution_count": null,
      "metadata": {
        "id": "ilBpbKVIfyVh",
        "colab": {
          "base_uri": "https://localhost:8080/"
        },
        "outputId": "20ae8e44-43c2-4188-f97d-50bce7959563"
      },
      "outputs": [
        {
          "output_type": "stream",
          "name": "stdout",
          "text": [
            "False\n",
            "True\n"
          ]
        }
      ],
      "source": [
        "# write your code here\n",
        "set2 = {1,1,1,5,5,5,5,7,4,7}\n",
        "if set2 == set():\n",
        "    print(\"True\")\n",
        "else:\n",
        "    print(\"False\")\n",
        "\n",
        "# sec_m = 1\n",
        "\n",
        "s = set()\n",
        "print(len(s) == 0)"
      ],
      "id": "ilBpbKVIfyVh"
    },
    {
      "cell_type": "markdown",
      "metadata": {
        "id": "Ob4hYWQGfyVh"
      },
      "source": [
        "### Sets Q9\n",
        "\n",
        "**Problem:** Find the maximum element in a set.\n",
        "\n",
        "**Expected answer should look like (example):**\n",
        "```\n",
        "max_value\n",
        "```"
      ],
      "id": "Ob4hYWQGfyVh"
    },
    {
      "cell_type": "code",
      "execution_count": null,
      "metadata": {
        "id": "b4bHmMIyfyVh",
        "colab": {
          "base_uri": "https://localhost:8080/"
        },
        "outputId": "636f0c86-4397-4365-9c0f-5d8e223ba2e9"
      },
      "outputs": [
        {
          "output_type": "stream",
          "name": "stdout",
          "text": [
            "7\n"
          ]
        }
      ],
      "source": [
        "# write your code here\n",
        "set2 = {1,1,1,5,5,5,5,7,4,7}\n",
        "print(max(set2))"
      ],
      "id": "b4bHmMIyfyVh"
    },
    {
      "cell_type": "markdown",
      "metadata": {
        "id": "RHn1Kk-ufyVh"
      },
      "source": [
        "### Sets Q10\n",
        "\n",
        "**Problem:** Find the minimum element in a set.\n",
        "\n",
        "**Expected answer should look like (example):**\n",
        "```\n",
        "min_value\n",
        "```"
      ],
      "id": "RHn1Kk-ufyVh"
    },
    {
      "cell_type": "code",
      "execution_count": 16,
      "metadata": {
        "id": "ePKcbSaafyVh",
        "colab": {
          "base_uri": "https://localhost:8080/"
        },
        "outputId": "398f49c3-f4f1-47e5-c848-73393e76e4c9"
      },
      "outputs": [
        {
          "output_type": "stream",
          "name": "stdout",
          "text": [
            "1\n"
          ]
        }
      ],
      "source": [
        "# write your code here\n",
        "set2 = {1,1,1,5,5,5,5,7,4,7}\n",
        "print(min(set2))"
      ],
      "id": "ePKcbSaafyVh"
    },
    {
      "cell_type": "markdown",
      "metadata": {
        "id": "AzYVe4E2fyVh"
      },
      "source": [
        "### Sets Q11\n",
        "\n",
        "**Problem:** Create a frozen set with elements 'a', 'b', and 'c'.\n",
        "\n",
        "**Expected answer should look like (example):**\n",
        "```\n",
        "frozenset({'a','b','c'})\n",
        "```"
      ],
      "id": "AzYVe4E2fyVh"
    },
    {
      "cell_type": "code",
      "execution_count": null,
      "metadata": {
        "id": "AhMpp5WdfyVh",
        "colab": {
          "base_uri": "https://localhost:8080/"
        },
        "outputId": "0b2430db-500e-4f65-a58a-4be9a064dd0a"
      },
      "outputs": [
        {
          "output_type": "stream",
          "name": "stdout",
          "text": [
            "frozenset({1, 4, 5, 7})\n"
          ]
        }
      ],
      "source": [
        "# write your code here\n",
        "set2 = {1,1,1,5,5,5,5,7,4,7}\n",
        "print(frozenset(set2))"
      ],
      "id": "AhMpp5WdfyVh"
    },
    {
      "cell_type": "markdown",
      "metadata": {
        "id": "b7SIy4MWfyVh"
      },
      "source": [
        "### Sets Q12\n",
        "\n",
        "**Problem:** Check if a frozen set is immutable by attempting to add an element.\n",
        "\n",
        "**Expected answer should look like (example):**\n",
        "```\n",
        "AttributeError shown/handled\n",
        "```"
      ],
      "id": "b7SIy4MWfyVh"
    },
    {
      "cell_type": "code",
      "execution_count": 15,
      "metadata": {
        "id": "kaW8KcrnfyVi",
        "colab": {
          "base_uri": "https://localhost:8080/"
        },
        "outputId": "5e7de1a3-812a-451b-a51e-c16d65ebaad4"
      },
      "outputs": [
        {
          "output_type": "stream",
          "name": "stdout",
          "text": [
            "AttributeError: 'frozenset' object has no attribute 'add'\n"
          ]
        }
      ],
      "source": [
        "# write your code here\n",
        "fs = frozenset([1, 2, 3])\n",
        "\n",
        "try:\n",
        "    fs.add(4)\n",
        "except AttributeError as e:\n",
        "    print(\"AttributeError:\", e)\n",
        "\n"
      ],
      "id": "kaW8KcrnfyVi"
    },
    {
      "cell_type": "markdown",
      "metadata": {
        "id": "u4PGg21HfyVi"
      },
      "source": [
        "### Sets Q13\n",
        "\n",
        "**Problem:** Find the union of a frozen set with a regular set.\n",
        "\n",
        "**Expected answer should look like (example):**\n",
        "```\n",
        "combined set\n",
        "```"
      ],
      "id": "u4PGg21HfyVi"
    },
    {
      "cell_type": "code",
      "execution_count": 16,
      "metadata": {
        "id": "CFjOTXsAfyVi",
        "colab": {
          "base_uri": "https://localhost:8080/"
        },
        "outputId": "b5a01932-f63f-4176-9be2-e44ab17b89ac"
      },
      "outputs": [
        {
          "output_type": "stream",
          "name": "stdout",
          "text": [
            "frozenset({1, 2, 3, 4, 5, 6})\n"
          ]
        }
      ],
      "source": [
        "# write your code here\n",
        "fs = frozenset([1, 2, 3])\n",
        "s = {4, 5, 6}\n",
        "print(fs.union(s))"
      ],
      "id": "CFjOTXsAfyVi"
    },
    {
      "cell_type": "markdown",
      "metadata": {
        "id": "l1AxUrgbfyVi"
      },
      "source": [
        "### Sets Q14\n",
        "\n",
        "**Problem:** Convert a list with duplicate elements into a set to remove duplicates.\n",
        "\n",
        "**Expected answer should look like (example):**\n",
        "```\n",
        "{unique_elements}\n",
        "```"
      ],
      "id": "l1AxUrgbfyVi"
    },
    {
      "cell_type": "code",
      "execution_count": 17,
      "metadata": {
        "id": "uGYqDg-EfyVi",
        "colab": {
          "base_uri": "https://localhost:8080/"
        },
        "outputId": "c9544c0b-0872-431f-9ee5-ce211c26e67e"
      },
      "outputs": [
        {
          "output_type": "stream",
          "name": "stdout",
          "text": [
            "{1, 2, 3, 4, 5}\n"
          ]
        }
      ],
      "source": [
        "# write your code here\n",
        "list = [1, 1, 2, 2, 3, 3, 4, 4, 5, 5]\n",
        "print(set(list))"
      ],
      "id": "uGYqDg-EfyVi"
    },
    {
      "cell_type": "markdown",
      "metadata": {
        "id": "LNVwzH2dfyVi"
      },
      "source": [
        "### Sets Q15\n",
        "\n",
        "**Problem:** Create a set comprehension to generate squares of numbers from 1 to 5.\n",
        "\n",
        "**Expected answer should look like (example):**\n",
        "```\n",
        "{1,4,9,16,25}\n",
        "```"
      ],
      "id": "LNVwzH2dfyVi"
    },
    {
      "cell_type": "code",
      "execution_count": 19,
      "metadata": {
        "id": "ZL075CBkfyVi",
        "colab": {
          "base_uri": "https://localhost:8080/"
        },
        "outputId": "13f22c1c-3ab9-42ac-de60-0618f304f02a"
      },
      "outputs": [
        {
          "output_type": "stream",
          "name": "stdout",
          "text": [
            "{1, 4, 9, 16, 25}\n"
          ]
        }
      ],
      "source": [
        "# write your code here\n",
        "print({i**2 for i in range(1,6)})\n"
      ],
      "id": "ZL075CBkfyVi"
    },
    {
      "cell_type": "markdown",
      "metadata": {
        "id": "D0DqSpwUfyVi"
      },
      "source": [
        "### Sets Q16\n",
        "\n",
        "**Problem:** Use the `intersection()` method on two sets.\n",
        "\n",
        "**Expected answer should look like (example):**\n",
        "```\n",
        "A ∩ B\n",
        "```"
      ],
      "id": "D0DqSpwUfyVi"
    },
    {
      "cell_type": "code",
      "execution_count": 20,
      "metadata": {
        "id": "CSbQd9H8fyVi",
        "colab": {
          "base_uri": "https://localhost:8080/"
        },
        "outputId": "5ec0985c-c5b0-4881-e335-efff432f5cf3"
      },
      "outputs": [
        {
          "output_type": "stream",
          "name": "stdout",
          "text": [
            "{4, 5}\n"
          ]
        }
      ],
      "source": [
        "# write your code here\n",
        "A = {1,1,1,5,5,5,5,7,4,7}\n",
        "B = {4,5,5,5}\n",
        "print(A.intersection(B))"
      ],
      "id": "CSbQd9H8fyVi"
    },
    {
      "cell_type": "markdown",
      "metadata": {
        "id": "q2Zf6kwEfyVi"
      },
      "source": [
        "### Sets Q17\n",
        "\n",
        "**Problem:** Use `symmetric_difference()` between two sets.\n",
        "\n",
        "**Expected answer should look like (example):**\n",
        "```\n",
        "(A Δ B) set\n",
        "```"
      ],
      "id": "q2Zf6kwEfyVi"
    },
    {
      "cell_type": "code",
      "execution_count": 21,
      "metadata": {
        "id": "JJOjcx6MfyVi",
        "colab": {
          "base_uri": "https://localhost:8080/"
        },
        "outputId": "57903dd7-0281-4574-8d7a-45450b35c5a9"
      },
      "outputs": [
        {
          "output_type": "stream",
          "name": "stdout",
          "text": [
            "{1, 7}\n"
          ]
        }
      ],
      "source": [
        "# write your code here\n",
        "A = {1,1,1,5,5,5,5,7,4,7}\n",
        "B = {4,5,5,5}\n",
        "print(A.symmetric_difference(B))"
      ],
      "id": "JJOjcx6MfyVi"
    },
    {
      "cell_type": "markdown",
      "metadata": {
        "id": "iyPjq03kfyVj"
      },
      "source": [
        "### Sets Q18\n",
        "\n",
        "**Problem:** Iterate over elements of a set using a loop.\n",
        "\n",
        "**Expected answer should look like (example):**\n",
        "```\n",
        "elements printed (order arbitrary)\n",
        "```"
      ],
      "id": "iyPjq03kfyVj"
    },
    {
      "cell_type": "code",
      "execution_count": 22,
      "metadata": {
        "id": "kchujqXKfyVj",
        "colab": {
          "base_uri": "https://localhost:8080/"
        },
        "outputId": "76fc1b59-2ece-4dee-e89d-223c96e8dea8"
      },
      "outputs": [
        {
          "output_type": "stream",
          "name": "stdout",
          "text": [
            "1\n",
            "4\n",
            "5\n",
            "7\n"
          ]
        }
      ],
      "source": [
        "# write your code here\n",
        "set2 = {1,1,1,5,5,5,5,7,4,7}\n",
        "for i in set2:\n",
        "  print(i)"
      ],
      "id": "kchujqXKfyVj"
    },
    {
      "cell_type": "markdown",
      "metadata": {
        "id": "hxzkafUefyVj"
      },
      "source": [
        "### Sets Q19\n",
        "\n",
        "**Problem:** Count elements in a set using `len()`.\n",
        "\n",
        "**Expected answer should look like (example):**\n",
        "```\n",
        "integer_count\n",
        "```"
      ],
      "id": "hxzkafUefyVj"
    },
    {
      "cell_type": "code",
      "execution_count": 23,
      "metadata": {
        "id": "M5lUlSKUfyVj",
        "colab": {
          "base_uri": "https://localhost:8080/"
        },
        "outputId": "71fd19de-df20-475f-8ab1-55450191fcb2"
      },
      "outputs": [
        {
          "output_type": "stream",
          "name": "stdout",
          "text": [
            "4\n"
          ]
        }
      ],
      "source": [
        "# write your code here\n",
        "set2 = {1,1,1,5,5,5,5,7,4,7}\n",
        "print(len(set2))"
      ],
      "id": "M5lUlSKUfyVj"
    },
    {
      "cell_type": "markdown",
      "metadata": {
        "id": "60brTOPlfyVj"
      },
      "source": [
        "### Sets Q20\n",
        "\n",
        "**Problem:** Copy a set using `copy()` and verify it is separate.\n",
        "\n",
        "**Expected answer should look like (example):**\n",
        "```\n",
        "True when A is B is False; mutation doesn't affect copy\n",
        "```"
      ],
      "id": "60brTOPlfyVj"
    },
    {
      "cell_type": "code",
      "execution_count": 24,
      "metadata": {
        "id": "_9s80IdsfyVj",
        "colab": {
          "base_uri": "https://localhost:8080/"
        },
        "outputId": "c411edb7-b300-424b-b1d5-b68ba45a6625"
      },
      "outputs": [
        {
          "output_type": "stream",
          "name": "stdout",
          "text": [
            "False\n"
          ]
        }
      ],
      "source": [
        "# write your code here\n",
        "set2 = {1,1,1,5,5,5,5,7,4,7}\n",
        "set3 = set2.copy()\n",
        "print(set2 is set3)"
      ],
      "id": "_9s80IdsfyVj"
    },
    {
      "cell_type": "markdown",
      "metadata": {
        "id": "SpYizfRbfyVl"
      },
      "source": [
        "## Submission Note\n",
        "\n",
        "Dear student, kindly save this file on your computer and fill the assignment form that is there in your WhatsApp group to submit this assignment."
      ],
      "id": "SpYizfRbfyVl"
    }
  ],
  "metadata": {
    "kernelspec": {
      "display_name": "Python 3",
      "language": "python",
      "name": "python3"
    },
    "language_info": {
      "codemirror_mode": {
        "name": "ipython",
        "version": 3
      },
      "file_extension": ".py",
      "mimetype": "text/x-python",
      "name": "python",
      "nbconvert_exporter": "python",
      "pygments_lexer": "ipython3",
      "version": "3.11.8"
    },
    "colab": {
      "provenance": [],
      "include_colab_link": true
    }
  },
  "nbformat": 4,
  "nbformat_minor": 5
}